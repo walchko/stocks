{
 "cells": [
  {
   "cell_type": "markdown",
   "id": "8bd557af-ab5c-480a-9a16-a5a91a52952c",
   "metadata": {},
   "source": [
    "# fun with stocks\n",
    "\n",
    "[Docs](https://polygon.io/docs/getting-started)\n",
    "\n",
    "- github: [polygon](https://github.com/polygon-io/client-python)\n",
    "- docs: [`stocks_equities_aggregates`](https://polygon.io/docs/get_v2_aggs_ticker__stocksTicker__range__multiplier___timespan___from___to__anchor)"
   ]
  },
  {
   "cell_type": "code",
   "execution_count": 75,
   "id": "eb671d4e-26e1-4d4d-a03d-05c9fa21388f",
   "metadata": {},
   "outputs": [],
   "source": [
    "import datetime\n",
    "from polygon import RESTClient\n",
    "import yaml\n",
    "from matplotlib import pyplot as plt"
   ]
  },
  {
   "cell_type": "code",
   "execution_count": 26,
   "id": "548cea8b-4c26-4663-bd2c-791abecf0b64",
   "metadata": {},
   "outputs": [],
   "source": [
    "with open('api_key.yml') as f:\n",
    "    apiKey = yaml.load(f, Loader=yaml.FullLoader)[\"key\"]\n",
    "    # print(apiKey)\n",
    "key = apiKey"
   ]
  },
  {
   "cell_type": "code",
   "execution_count": 89,
   "id": "556d1be4-0345-41a5-b7d2-77c1f84519de",
   "metadata": {},
   "outputs": [
    {
     "name": "stdout",
     "output_type": "stream",
     "text": [
      "On: 2021-10-26 Tesla opened at 1024.69 and closed at 1018.43\n"
     ]
    }
   ],
   "source": [
    "def simple():\n",
    "    # RESTClient can be used as a context manager to facilitate closing the underlying http session\n",
    "    # https://requests.readthedocs.io/en/master/user/advanced/#session-objects\n",
    "    with RESTClient(key) as client:\n",
    "        resp = client.stocks_equities_daily_open_close(\"TSLA\", \"2021-10-26\")\n",
    "        print(f\"On: {resp.from_} Tesla opened at {resp.open} and closed at {resp.close}\")\n",
    "\n",
    "simple()"
   ]
  },
  {
   "cell_type": "code",
   "execution_count": 67,
   "id": "eca47913-38eb-4b83-bdc3-d9687c1dc973",
   "metadata": {},
   "outputs": [],
   "source": [
    "def today():\n",
    "    return datetime.datetime.now().strftime('%Y-%m-%d')\n",
    "\n",
    "def ts_to_datetime(ts):\n",
    "    return datetime.datetime.fromtimestamp(ts / 1000.0).strftime('%Y-%m-%d %H:%M')\n",
    "\n",
    "# will return day's open/close/high/low when set to 1, \"day\"\n",
    "def fetch(from_, to = None):\n",
    "    with RESTClient(key) as client:\n",
    "        if to is None:\n",
    "            to = today()\n",
    "        resp = client.stocks_equities_aggregates(\"TSLA\", 1, \"day\", from_, to, unadjusted=False)\n",
    "    return resp\n",
    "\n",
    "def printStock(resp):\n",
    "        print(f\"Aggregates for {resp.ticker}\")\n",
    "\n",
    "        \"\"\"\n",
    "        \"c\": \"close_price\",\n",
    "        \"h\": \"high_price\",\n",
    "        \"l\": \"low_price\",\n",
    "        \"o\": \"open_price\",\n",
    "        \"v\": \"volume\",\n",
    "        \"\"\"\n",
    "        for result in resp.results:\n",
    "            dt = ts_to_datetime(result[\"t\"])\n",
    "            print(f\"{dt}\\n\\tO: {result['o']}\\n\\tH: {result['h']}\\n\\tL: {result['l']}\\n\\tC: {result['c']} \")"
   ]
  },
  {
   "cell_type": "code",
   "execution_count": 90,
   "id": "208a3e1a-b0e6-40e6-9e05-ca0e9242a03c",
   "metadata": {},
   "outputs": [],
   "source": [
    "tesla = fetch(\"2021-10-26\")"
   ]
  },
  {
   "cell_type": "code",
   "execution_count": 91,
   "id": "b6bbacab-ffbc-41d7-8902-28524912c446",
   "metadata": {},
   "outputs": [
    {
     "name": "stdout",
     "output_type": "stream",
     "text": [
      "Aggregates for TSLA\n",
      "2021-10-25 22:00\n",
      "\tO: 1024.69\n",
      "\tH: 1094.94\n",
      "\tL: 1001.44\n",
      "\tC: 1018.43 \n",
      "2021-10-26 22:00\n",
      "\tO: 1039.66\n",
      "\tH: 1070.88\n",
      "\tL: 1030.78\n",
      "\tC: 1037.86 \n",
      "2021-10-27 22:00\n",
      "\tO: 1068.305\n",
      "\tH: 1081\n",
      "\tL: 1054.2\n",
      "\tC: 1077.04 \n",
      "2021-10-28 22:00\n",
      "\tO: 1081.86\n",
      "\tH: 1115.21\n",
      "\tL: 1073.205\n",
      "\tC: 1114 \n"
     ]
    }
   ],
   "source": [
    "printStock(tesla)"
   ]
  },
  {
   "cell_type": "code",
   "execution_count": 92,
   "id": "59837d49-875e-40cf-8a3d-904975d8cd00",
   "metadata": {},
   "outputs": [
    {
     "name": "stdout",
     "output_type": "stream",
     "text": [
      "{'v': 62403968.0, 'vw': 1043.8324, 'o': 1024.69, 'c': 1018.43, 'h': 1094.94, 'l': 1001.44, 't': 1635220800000, 'n': 1717719}\n",
      "{'v': 38472949.0, 'vw': 1048.7663, 'o': 1039.66, 'c': 1037.86, 'h': 1070.88, 'l': 1030.78, 't': 1635307200000, 'n': 935160}\n",
      "{'v': 27213173.0, 'vw': 1070.1433, 'o': 1068.305, 'c': 1077.04, 'h': 1081, 'l': 1054.2, 't': 1635393600000, 'n': 665902}\n",
      "{'v': 29912217.0, 'vw': 1095.805, 'o': 1081.86, 'c': 1114, 'h': 1115.21, 'l': 1073.205, 't': 1635480000000, 'n': 763646}\n"
     ]
    }
   ],
   "source": [
    "for r in tesla.results:\n",
    "    print(r)"
   ]
  },
  {
   "cell_type": "code",
   "execution_count": 98,
   "id": "f9c7af13-cbf0-4001-b4d0-ee3fdf0dd722",
   "metadata": {},
   "outputs": [
    {
     "data": {
      "image/png": "[encoded data removed]",
      "text/plain": [
       "<Figure size 432x288 with 1 Axes>"
      ]
     },
     "metadata": {
      "needs_background": "light"
     },
     "output_type": "display_data"
    }
   ],
   "source": [
    "def plot(s):\n",
    "    dt = [ts_to_datetime(r['t']) for r in s.results]\n",
    "    o = [r['o'] for r in s.results]\n",
    "    c = [r['c'] for r in s.results]\n",
    "    \n",
    "    curr = s.results[-1]['c']\n",
    "    tot = 4.8182\n",
    "    \n",
    "    # plt.figure(figSize=(20,10))\n",
    "    plt.plot(dt,o, label=\"Open\")\n",
    "    plt.plot(dt,c, label=\"Close\")\n",
    "    plt.grid(True)\n",
    "    plt.legend()\n",
    "    plt.title(f\"TSLA: {tot*curr:.2f} [{tot*(curr-1037.73):.2f}]\");\n",
    "    \n",
    "plot(tesla)"
   ]
  },
  {
   "cell_type": "code",
   "execution_count": null,
   "id": "96bcfe0c-54bc-4506-9a6c-0791ff1b31f1",
   "metadata": {},
   "outputs": [],
   "source": []
  }
 ],
 "metadata": {
  "kernelspec": {
   "display_name": "Python 3 (ipykernel)",
   "language": "python",
   "name": "python3"
  },
  "language_info": {
   "codemirror_mode": {
    "name": "ipython",
    "version": 3
   },
   "file_extension": ".py",
   "mimetype": "text/x-python",
   "name": "python",
   "nbconvert_exporter": "python",
   "pygments_lexer": "ipython3",
   "version": "3.9.6"
  }
 },
 "nbformat": 4,
 "nbformat_minor": 5
}
